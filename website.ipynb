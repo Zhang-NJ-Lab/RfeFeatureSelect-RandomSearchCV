{
 "cells": [
  {
   "cell_type": "code",
   "execution_count": null,
   "id": "4ba1e1ee-3900-4c91-aabe-6cec7abc95f9",
   "metadata": {},
   "outputs": [],
   "source": [
    "import pandas as pd\n",
    "\n",
    "\n",
    "def load_data():\n",
    "    \"\"\"用来生成训练、测试数据\"\"\"\n",
    "    from sklearn.datasets import make_classification\n",
    "    data_x, data_y = make_classification(n_samples=1000, n_classes=4, n_features=10, n_informative=8)\n",
    "    df_x = pd.DataFrame(data_x, columns=['f_1', 'f_2', 'f_3', 'f_4', 'f_5', 'f_6', \"f_7\", \"f_8\", \"f_9\", \"f_10\"])\n",
    "    df_y = pd.Series(data_y)\n",
    "    return df_x, df_y\n",
    "\n",
    "\n",
    "def logistic_rfe(x_data, y_data): # RFE模型\n",
    "    from sklearn.feature_selection import RFE\n",
    "    from sklearn.linear_model import LogisticRegression\n",
    "    clf = LogisticRegression(random_state=0)\n",
    "    selector = RFE(clf, 5)\n",
    "    selector = selector.fit(x_data, y_data)\n",
    "    print(selector.support_)  # 保留的特征为True\n",
    "    # x_data.loc[:, selector.support_] # 保留的x\n",
    "    print(selector.ranking_)  # 保留的特征等级为1，重要性依次向下\n",
    "    for i in range(selector.ranking_.min(), selector.ranking_.max()):\n",
    "        print(i, x_data.columns[selector.ranking_ == i].tolist())\n",
    "\n",
    "\n",
    "def cv_ref_select(x_data, y_data): # RFECV模型\n",
    "    \"\"\"通过交叉验证来筛选模型，依次删除每个特征，然后训练模型，如果被删除特征对之后结果的影响很大，则说明很重要\"\"\"\n",
    "    from sklearn.model_selection import StratifiedKFold\n",
    "    from sklearn.feature_selection import RFECV\n",
    "    from sklearn.tree import DecisionTreeClassifier\n",
    "    cv_selector = RFECV(estimator=DecisionTreeClassifier(), step=1, cv=StratifiedKFold(10),\n",
    "                        scoring='accuracy', n_jobs=1)\n",
    "    cv_selector.fit(x_data, y_data)\n",
    "    print(\"select feature: \", x_data.columns[cv_selector.get_support()])\n",
    "    return cv_selector.transform(x_data)\n",
    "\n",
    "\n",
    "if __name__ == '__main__':\n",
    "    value_x, value_y = load_data()\n",
    "    logistic_rfe(value_x, value_y)\n",
    "    cv_ref_select(value_x, value_y)\n",
    "\n"
   ]
  }
 ],
 "metadata": {
  "kernelspec": {
   "display_name": "Python [conda env:py37]",
   "language": "python",
   "name": "conda-env-py37-py"
  },
  "language_info": {
   "codemirror_mode": {
    "name": "ipython",
    "version": 3
   },
   "file_extension": ".py",
   "mimetype": "text/x-python",
   "name": "python",
   "nbconvert_exporter": "python",
   "pygments_lexer": "ipython3",
   "version": "3.7.0"
  }
 },
 "nbformat": 4,
 "nbformat_minor": 5
}
